{
 "cells": [
  {
   "cell_type": "code",
   "execution_count": 1,
   "metadata": {},
   "outputs": [],
   "source": [
    "import pandas as pd\n",
    "import matplotlib.pyplot as plt\n",
    "%matplotlib inline\n",
    "import seaborn as sns\n",
    "sns.set()"
   ]
  },
  {
   "cell_type": "code",
   "execution_count": null,
   "metadata": {},
   "outputs": [],
   "source": [
    "from sklearn import tree\n",
    "clf = tree.DecisionTreeClassifier(max_depth=3)\n",
    "\n",
    "df_train['Age'] = df_train['Age'].fillna(df_train['Age'].median())\n",
    "#df_train['Age'].fillna(df_train['Age'].median())\n",
    "dfd = pd.get_dummies(df_train, columns=['Sex'])\n",
    "dd = dfd[['Sex_male', 'Fare', 'Age','Pclass', 'SibSp', 'Survived']]\n",
    "# dd.head()\n",
    "\n",
    "X_train =  dfd[['Sex_male', 'Fare', 'Age', 'Pclass','SibSp']].values\n",
    "Y_train =  dfd['Survived'].values\n",
    "\n",
    "clf = clf.fit(X_train, Y_train)\n",
    "\n",
    "df_test['Age'] = df_test['Age'].fillna(df_train['Age'].median())\n",
    "df_test['Fare'] = df_test['Fare'].fillna(df_train['Fare'].median())\n",
    "#df_train['Age'].fillna(df_train['Age'].median())\n",
    "dfd = pd.get_dummies(df_test, columns=['Sex'])\n",
    "X_test =  dfd[['Sex_male', 'Fare', 'Age', 'Pclass','SibSp']].values\n",
    "Y_pred = clf.predict(X_test)\n",
    "\n",
    "df_test['Survived'] = Y_pred\n",
    "\n",
    "#df_test[['PassengerId', 'Survived']].to_csv('sub_9_decision_tree.csv', index=False)"
   ]
  },
  {
   "cell_type": "code",
   "execution_count": null,
   "metadata": {},
   "outputs": [],
   "source": [
    "dot_data = tree.export_graphviz(clf, out_file=None, \n",
    "                         feature_names=['Sex_male', 'Fare', 'Age', 'Pclass','SibSp'],  \n",
    "                         class_names=['Dead', 'Survived'],  \n",
    "                         filled=True, rounded=True,  \n",
    "                         special_characters=True) \n",
    "graph = graphviz.Source(dot_data) \n",
    "graph.render(\"titanic_pc\") "
   ]
  },
  {
   "cell_type": "code",
   "execution_count": null,
   "metadata": {},
   "outputs": [],
   "source": []
  }
 ],
 "metadata": {
  "kernelspec": {
   "display_name": "Python 3",
   "language": "python",
   "name": "python3"
  },
  "language_info": {
   "codemirror_mode": {
    "name": "ipython",
    "version": 3
   },
   "file_extension": ".py",
   "mimetype": "text/x-python",
   "name": "python",
   "nbconvert_exporter": "python",
   "pygments_lexer": "ipython3",
   "version": "3.6.1"
  }
 },
 "nbformat": 4,
 "nbformat_minor": 2
}
